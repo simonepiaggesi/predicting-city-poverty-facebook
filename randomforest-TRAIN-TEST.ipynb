{
 "cells": [
  {
   "cell_type": "code",
   "execution_count": 1,
   "metadata": {},
   "outputs": [
    {
     "name": "stdout",
     "output_type": "stream",
     "text": [
      "Populating the interactive namespace from numpy and matplotlib\n"
     ]
    }
   ],
   "source": [
    "import pandas as pd\n",
    "%pylab inline"
   ]
  },
  {
   "cell_type": "code",
   "execution_count": 2,
   "metadata": {},
   "outputs": [],
   "source": [
    "from sklearn.metrics import r2_score, f1_score, roc_auc_score\n",
    "from sklearn.model_selection import StratifiedKFold, KFold, cross_val_predict, cross_val_score\n",
    "from sklearn.linear_model import LinearRegression, Lasso, Ridge\n",
    "from sklearn.linear_model import LogisticRegression\n",
    "from sklearn.ensemble import RandomForestClassifier\n",
    "from sklearn.pipeline import make_pipeline\n",
    "from sklearn.preprocessing import StandardScaler\n",
    "from scipy import stats\n",
    "import statsmodels.api as sm"
   ]
  },
  {
   "cell_type": "code",
   "execution_count": 3,
   "metadata": {},
   "outputs": [],
   "source": [
    "import pickle as pkl"
   ]
  },
  {
   "cell_type": "code",
   "execution_count": 4,
   "metadata": {},
   "outputs": [],
   "source": [
    "religion_feats = ['Catholic Church', 'Buddhism', 'Atheism']\n",
    "interest_feats = ['Gambling', 'Casino', 'Cooking', 'Restaurants',  'Fast food', 'Fitness and wellness',  'LGBT community','Homosexuality', 'Same-sex marriage']"
   ]
  },
  {
   "cell_type": "code",
   "execution_count": 5,
   "metadata": {},
   "outputs": [],
   "source": [
    "q_list = [25, 50, 75]"
   ]
  },
  {
   "cell_type": "code",
   "execution_count": 6,
   "metadata": {},
   "outputs": [],
   "source": [
    "# Number of trees in random forest\n",
    "n_estimators_list = [10, 50, 100, 200, 300]\n",
    "# Maximum number of levels in tree\n",
    "max_depth_list = [2, 5, 20, 50, 100]\n",
    "# max_depth_list.append(None)\n",
    "# Minimum number of samples required to split a node\n",
    "min_samples_split_list = [2]\n",
    "# Minimum number of samples required at each leaf node\n",
    "min_samples_leaf_list = [1]"
   ]
  },
  {
   "cell_type": "markdown",
   "metadata": {},
   "source": [
    "# ALL AGES"
   ]
  },
  {
   "cell_type": "code",
   "execution_count": 7,
   "metadata": {},
   "outputs": [],
   "source": [
    "dfs = {}\n",
    "ys = {}"
   ]
  },
  {
   "cell_type": "code",
   "execution_count": 8,
   "metadata": {},
   "outputs": [],
   "source": [
    "df_city_zips = pd.read_csv('data/atlanta/median_income_city.csv')\n",
    "df = pd.read_csv('data/atlanta/atlanta_all_ages_normalized_average_query_withnans.csv').drop(labels=['Unnamed: 0'], axis=1).fillna(0.0)\n",
    "df = df[df.zips.isin(df_city_zips.name.iloc[1:].astype(int))].reset_index(drop=True)"
   ]
  },
  {
   "cell_type": "code",
   "execution_count": 9,
   "metadata": {
    "scrolled": true
   },
   "outputs": [],
   "source": [
    "#ATLANTA\n",
    "df_city_zips = pd.read_csv('data/atlanta/median_income_city.csv')\n",
    "df = pd.read_csv('data/atlanta/atlanta_all_ages_normalized_average_query_withnans.csv').drop(labels=['Unnamed: 0'], axis=1).fillna(0.0)\n",
    "df = df[df.zips.isin(df_city_zips.name.iloc[1:].astype(int))].reset_index(drop=True)\n",
    "    \n",
    "zips = (df.loc[:,'Users':'Windows']!=0).sum(axis=1)>0\n",
    "df = df[zips]\n",
    "\n",
    "features = df.loc[:,'Users':].columns[(df.loc[:,'Users':]!=0).sum(axis=0) > 0]\n",
    "df = df[features]\n",
    "\n",
    "for q in q_list:\n",
    "    df['incomeq%s'%q] = (df.income > np.percentile(df.income, q)).astype(int)\n",
    "\n",
    "dfs['atlanta'] = df.loc[:,~df.columns.isin(interest_feats+religion_feats)].loc[:, 'Males':'Windows']\n",
    "ys['atlanta'] = df[['income']+['incomeq%s'%q for q in q_list]]"
   ]
  },
  {
   "cell_type": "code",
   "execution_count": 10,
   "metadata": {},
   "outputs": [],
   "source": [
    "#BOGOTA\n",
    "df = pd.read_csv('data/bogota/bogota_all_ages_normalized_average_query_withnans.csv').drop(labels=['Unnamed: 0'], axis=1)\n",
    "\n",
    "df['income'] = df.median_income\n",
    "    \n",
    "zips = (df.loc[:,'Users':'Windows']!=0).sum(axis=1)>0\n",
    "df = df[zips]\n",
    "\n",
    "features = df.loc[:,'Users':].columns[(df.loc[:,'Users':]!=0).sum(axis=0) > 0]\n",
    "df = df[features]\n",
    "\n",
    "rs = np.random.RandomState(seed=0)\n",
    "np_income = df.income + rs.rand(df.income.shape[0])*1e-5\n",
    "for q in q_list:\n",
    "    df['incomeq%s'%q] = (np_income > np.percentile(np_income, q)).astype(int)\n",
    "\n",
    "dfs['bogota'] = df.loc[:,~df.columns.isin(interest_feats+religion_feats)].loc[:, 'Males':'Windows']\n",
    "ys['bogota'] = df[['income']+['incomeq%s'%q for q in q_list]]"
   ]
  },
  {
   "cell_type": "code",
   "execution_count": 11,
   "metadata": {},
   "outputs": [],
   "source": [
    "#SANTIAGO\n",
    "df = pd.read_csv('data/santiago/santiago_all_ages_normalized_average_query_withnans.csv').drop(labels=['Unnamed: 0'], axis=1).dropna()\n",
    "df = df[(df.comuna_id < 13200) & (df.comuna_id!=13115)].reset_index(drop=True)\n",
    "\n",
    "df['income'] = df.median_income_comuna\n",
    "    \n",
    "zips = (df.loc[:,'Users':'Windows']!=0).sum(axis=1)>0\n",
    "df = df[zips]\n",
    "\n",
    "features = df.loc[:,'Users':].columns[(df.loc[:,'Users':]!=0).sum(axis=0) > 0]\n",
    "df = df[features]\n",
    "\n",
    "rs = np.random.RandomState(seed=0)\n",
    "np_income = df.income + rs.rand(df.income.shape[0])\n",
    "for q in q_list:\n",
    "    df['incomeq%s'%q] = (np_income > np.percentile(np_income, q)).astype(int)\n",
    "\n",
    "dfs['santiago'] = df.loc[:,~df.columns.isin(interest_feats+religion_feats)].loc[:, 'Males':'Windows']\n",
    "ys['santiago'] = df[['income']+['incomeq%s'%q for q in q_list]]"
   ]
  },
  {
   "cell_type": "code",
   "execution_count": 12,
   "metadata": {
    "scrolled": true
   },
   "outputs": [],
   "source": [
    "#CASABLANCA\n",
    "df = pd.read_csv('data/casablanca/casablanca_all_ages_normalized_average_query_withnans.csv').drop(labels=['Unnamed: 0'], axis=1)\n",
    "\n",
    "df['income'] = df.Taux_de_pauvretmultidimensionnelle2014\n",
    "    \n",
    "zips = (df.loc[:,'Users':'Windows']!=0).sum(axis=1)>0\n",
    "df = df[zips]\n",
    "\n",
    "features = df.loc[:,'Users':].columns[(df.loc[:,'Users':]!=0).sum(axis=0) > 0]\n",
    "df = df[features]\n",
    "\n",
    "rs = np.random.RandomState(seed=0)\n",
    "np_income = df.income + rs.rand(df.income.shape[0])*1e-5\n",
    "for q in q_list:\n",
    "    df['incomeq%s'%np.abs(q - 100)] = (np_income < np.percentile(np_income, q)).astype(int)\n",
    "\n",
    "dfs['casablanca'] = df.loc[:,~df.columns.isin(interest_feats+religion_feats)].loc[:, 'Males':'Windows']\n",
    "ys['casablanca'] = df[['income']+['incomeq%s'%q for q in q_list]]"
   ]
  },
  {
   "cell_type": "code",
   "execution_count": null,
   "metadata": {
    "scrolled": true
   },
   "outputs": [],
   "source": [
    "city_train = 'santiago'\n",
    "city_test = 'bogota'\n",
    "\n",
    "best_qs = []\n",
    "df_train = dfs[city_train]\n",
    "X_train = df_train.values\n",
    "\n",
    "SEED = 42\n",
    "\n",
    "for q_train in q_list:\n",
    "\n",
    "    rs = np.random.RandomState(SEED)\n",
    "\n",
    "    y_train = ys[city_train]['incomeq%s'%q_train].values\n",
    "    y_true = ys[city_train]['income'].values\n",
    "\n",
    "    for n_estimators in n_estimators_list:\n",
    "        for max_depth in max_depth_list:\n",
    "            for min_samples_split in min_samples_split_list:\n",
    "                for min_samples_leaf in min_samples_leaf_list:\n",
    "\n",
    "                    params = [n_estimators, max_depth, min_samples_split, min_samples_leaf]\n",
    "\n",
    "                    aucs = []\n",
    "\n",
    "                    for seed in range(30):\n",
    "\n",
    "                        rfc = RandomForestClassifier(n_estimators=n_estimators,\n",
    "                                                      max_depth=max_depth, \n",
    "                                                      min_samples_split=min_samples_split,\n",
    "                                                      min_samples_leaf=min_samples_leaf, \n",
    "                                                      random_state=rs, n_jobs=-1)\n",
    "                        cv = StratifiedKFold(n_splits=5, shuffle=True, random_state=rs)\n",
    "                        cv_folds = list(cv.split(X_train,y_train))\n",
    "                        model = make_pipeline(StandardScaler(), rfc)\n",
    "\n",
    "                        y_probs = cross_val_predict(model, X_train, y_train, cv=cv_folds, method='predict_proba')\n",
    "\n",
    "                        auc = roc_auc_score(y_train, y_probs[:, 1])\n",
    "                        aucs.append(auc)\n",
    "                    best_qs.append((np.mean(aucs), np.std(aucs), params, q_train))\n",
    "\n",
    "best_qtrains = sorted([b for b in best_qs if ~np.isnan(b[0])], key= lambda x: x[0], reverse=True)\n",
    "best_qtrains = [[b for b in best_qtrains if b[-1]==q][0] for q in q_list]\n",
    "\n",
    "print(city_train)\n",
    "for b in best_qtrains:\n",
    "    print(b[2][:2], [b[-1]], 'roc-auc: %.3f %s %.3f' % (b[0], u\"\\u00B1\", b[1]))\n",
    "    \n",
    "if city_train != city_test:\n",
    "    \n",
    "    rs = np.random.RandomState(SEED)\n",
    "\n",
    "    df_test = dfs[city_test]\n",
    "    feats = list(set(df_train.columns) & set(df_test.columns))\n",
    "    X_train = df_train.loc[:, df_train.columns.isin(feats)].values\n",
    "    X_test = df_test.loc[:, df_test.columns.isin(feats)].values\n",
    "\n",
    "    shuff_idx = rs.permutation(X_train.shape[0])\n",
    "\n",
    "    scalar = StandardScaler()\n",
    "    scalar.fit(X_train)\n",
    "    X_train = scalar.transform(X_train)\n",
    "    X_test = scalar.transform(X_test)\n",
    "\n",
    "    print(city_train, city_test)\n",
    "\n",
    "    for best_qtrain in best_qtrains:\n",
    "\n",
    "        q_train = best_qtrain[-1]\n",
    "        q_test = q_train\n",
    "        y_train = ys[city_train]['incomeq%d'%q_train].values\n",
    "\n",
    "        y_test = ys[city_test]['incomeq%s'%q_test].values\n",
    "        y_true = ys[city_test]['income'].values\n",
    "\n",
    "        aucs = []\n",
    "\n",
    "        for seed in range(30):\n",
    "\n",
    "            rfc = RandomForestClassifier(n_estimators=best_qtrain[2][0],\n",
    "                                        max_depth=best_qtrain[2][1], random_state=seed, n_jobs=-1)\n",
    "            rfc.fit(X_train[shuff_idx], y_train[shuff_idx])\n",
    "\n",
    "            y_pred = rfc.predict(X_test)\n",
    "            y_probs = rfc.predict_proba(X_test)\n",
    "\n",
    "            auc = roc_auc_score(y_test, y_probs[:, 1])\n",
    "            aucs.append(auc)\n",
    "\n",
    "        print(best_qtrain[2][:2], [q_train, q_test], 'roc-auc: %.3f %s %.3f' % (np.mean(aucs), u\"\\u00B1\", np.std(aucs)))"
   ]
  },
  {
   "cell_type": "code",
   "execution_count": null,
   "metadata": {},
   "outputs": [],
   "source": []
  }
 ],
 "metadata": {
  "kernelspec": {
   "display_name": "Python 3",
   "language": "python",
   "name": "python3"
  },
  "language_info": {
   "codemirror_mode": {
    "name": "ipython",
    "version": 3
   },
   "file_extension": ".py",
   "mimetype": "text/x-python",
   "name": "python",
   "nbconvert_exporter": "python",
   "pygments_lexer": "ipython3",
   "version": "3.7.9"
  }
 },
 "nbformat": 4,
 "nbformat_minor": 2
}
